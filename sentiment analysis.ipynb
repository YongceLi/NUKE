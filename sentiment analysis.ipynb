{
 "cells": [
  {
   "cell_type": "code",
   "execution_count": 23,
   "id": "1cca9f28",
   "metadata": {},
   "outputs": [],
   "source": [
    "import pandas as pd\n",
    "from tqdm import tqdm"
   ]
  },
  {
   "cell_type": "code",
   "execution_count": 5,
   "id": "22820347",
   "metadata": {},
   "outputs": [],
   "source": [
    "df = pd.read_csv(\"./subreddits23/nuclear_comments.csv\")"
   ]
  },
  {
   "cell_type": "code",
   "execution_count": 65,
   "id": "d45f7ba0",
   "metadata": {},
   "outputs": [],
   "source": [
    "def filter_nuclear(x):\n",
    "    if (\"nuclear\" in str(x).lower() and \"energy\" in str(x).lower()) and len(str(x)) < 500:\n",
    "        return True\n",
    "    else:\n",
    "        return False"
   ]
  },
  {
   "cell_type": "code",
   "execution_count": 66,
   "id": "e3e8ccbb",
   "metadata": {},
   "outputs": [],
   "source": [
    "nuclear_energy_related = df[df[\"body\"].apply(lambda x: filter_nuclear(x))]"
   ]
  },
  {
   "cell_type": "code",
   "execution_count": 67,
   "id": "419d043a",
   "metadata": {},
   "outputs": [
    {
     "data": {
      "text/plain": [
       "'strontium 90, with a 28.8 year half life outputs 0.94 watts per gram. Even at 50%, you are looking at 0.49 watts per gram. A standard drone needs 50 to 600kw and to be powered by sr90, you will need 100 to 1200 kg. A betavoltaic will nearly double the weight.\\n\\nRadioisotope has great specific energy and can be made small, but its specific power tends to run on the low side.\\n\\nAnd yes, I am an engineer with an undergrad in nuclear and masters in materials'"
      ]
     },
     "execution_count": 67,
     "metadata": {},
     "output_type": "execute_result"
    }
   ],
   "source": [
    "nuclear_energy_related[\"body\"].iloc[3]"
   ]
  },
  {
   "cell_type": "code",
   "execution_count": 68,
   "id": "ecb19373",
   "metadata": {},
   "outputs": [
    {
     "name": "stderr",
     "output_type": "stream",
     "text": [
      "emoji is not installed, thus not converting emoticons or emojis into text. Install emoji: pip3 install emoji==0.6.0\n"
     ]
    }
   ],
   "source": [
    "# Use a pipeline as a high-level helper\n",
    "from transformers import pipeline\n",
    "\n",
    "pipe = pipeline(\"text-classification\", model=\"finiteautomata/bertweet-base-sentiment-analysis\")"
   ]
  },
  {
   "cell_type": "code",
   "execution_count": 71,
   "id": "eca0bf76",
   "metadata": {},
   "outputs": [],
   "source": [
    "input_list = []\n",
    "for i in range(20):\n",
    "    input_comment = nuclear_energy_related[\"body\"].iloc[i]\n",
    "    input_list.append(input_comment)\n",
    "input_list = [e.replace(\"&gt;\", \"\") for e in input_list]"
   ]
  },
  {
   "cell_type": "code",
   "execution_count": 72,
   "id": "4917ac55",
   "metadata": {
    "scrolled": false
   },
   "outputs": [
    {
     "name": "stdout",
     "output_type": "stream",
     "text": [
      "I'm a physicist and environmentalist in favor of nuclear fission energy.  Let the Nuclear Renaissance begin!\n",
      "RESULTS: [{'label': 'POS', 'score': 0.9134412407875061}]\n",
      "============================\n",
      "'In the wake of Copenhagen, an unheralded but hard-fought \"No Nukes\" victory has moved us closer to a green-powered Earth... the UniStar Nuclear Energy front group asked the Nuclear Regulatory Commission to delay its application to build a reactor... near Syracuse... Throughout the U.S., while the corporate media hypes a \"renaissance\" of new nukes, facts on the ground say the opposite is happening...'\n",
      "RESULTS: [{'label': 'NEU', 'score': 0.8076153993606567}]\n",
      "============================\n",
      "This is only making the news because it's on a nuclear site. Accidents like these happen every day.\n",
      "\n",
      "Also, the article is factually wrong: France only depends on nuclear for 40% of its energy[1] (though more if you're only looking at electricity).\n",
      "\n",
      "[1] http://ec.europa.eu/energy/energy_policy/doc/factsheets/mix/mix_fr_en.pdf\n",
      "RESULTS: [{'label': 'NEG', 'score': 0.7988107204437256}]\n",
      "============================\n",
      "strontium 90, with a 28.8 year half life outputs 0.94 watts per gram. Even at 50%, you are looking at 0.49 watts per gram. A standard drone needs 50 to 600kw and to be powered by sr90, you will need 100 to 1200 kg. A betavoltaic will nearly double the weight.\n",
      "\n",
      "Radioisotope has great specific energy and can be made small, but its specific power tends to run on the low side.\n",
      "\n",
      "And yes, I am an engineer with an undergrad in nuclear and masters in materials\n",
      "RESULTS: [{'label': 'NEU', 'score': 0.8672903180122375}]\n",
      "============================\n",
      "Perhaps a misleading headline, since it makes it sounds like a negative outlook while the report's conclusion (when you read the article) is the the nuclear phaseout \"is feasible and that its economic impact will be limited.\" Plus, all the money's getting poured into renewable energy R&amp;D, which is awesome!\n",
      "RESULTS: [{'label': 'NEU', 'score': 0.5329049229621887}]\n",
      "============================\n",
      "First of all, thank you for your comment.\n",
      "\n",
      " http://www.learningaboutenergy.com/ is Ted Rockwell's site, and it is handy for the \"Nuclear Energy Facts Report\" linked near the top.\n",
      "\n",
      "Not exactly what I'm looking for (he does not explicitly list anti-nuclear myths, but presents facts), but close enough, thank you for this useful link.\n",
      "RESULTS: [{'label': 'POS', 'score': 0.9380754232406616}]\n",
      "============================\n",
      "In the US I would just go on the NRC website and look up a list of all nuclear plants, and look for summer internship job positions. I do know Exelon does all of their summer interviewing starting right now so going on their careers page would be a start. Duke, Entergy, and XCEL energy should all be hiring soon too. I'm not familiar with Canada, but I would imagine a similar approach could be taken.\n",
      "RESULTS: [{'label': 'NEU', 'score': 0.8494067192077637}]\n",
      "============================\n",
      "[Undergrad text](http://www.amazon.com/Nuclear-Energy-Sixth-Introduction-Applications/dp/0123705479/ref=sr_1_6?s=books&amp;ie=UTF8&amp;qid=1349294173&amp;sr=1-6&amp;keywords=Nuclear+power+plants) on the subject.  A mile wide and a meter deep, it's a good read if you're just starting on the subject, but have a good educational background otherwise.\n",
      "RESULTS: [{'label': 'NEU', 'score': 0.6579208374023438}]\n",
      "============================\n",
      "No. They, like all other countries (eventually Germany will turn back) need a source of energy that nuclear provides. They might just phase out LWR and pursue different reactor technologies. \n",
      "RESULTS: [{'label': 'NEU', 'score': 0.869284987449646}]\n",
      "============================\n",
      "I recommend [Atomic Awakening by James Mahaffey](https://www.kirkusreviews.com/book-reviews/james-mahaffey/atomic-awakening/) for learning about the history of nuclear power and science.\n",
      "\n",
      "Are you also interested in the more technical aspect of nuclear energy?\n",
      "RESULTS: [{'label': 'POS', 'score': 0.7371176481246948}]\n",
      "============================\n",
      "More intriguing would be to normalize the production (intensity of white background) as a percentage of energy or electricity production, rather than total energy from nuclear.\n",
      "\n",
      "When something is a popularity contest, the US just skews any meaning out of the infographic.  The intensity of the color should reflect the intensity of nuclear usage.\n",
      "\n",
      "Also....Canada has 8 planned reactors?  What?  I only know of two.\n",
      "RESULTS: [{'label': 'NEU', 'score': 0.7702304124832153}]\n",
      "============================\n",
      "Nuclear energy is the cheapest option in many nations if not all. \n",
      "RESULTS: [{'label': 'NEU', 'score': 0.7430227398872375}]\n",
      "============================\n",
      "Yeah its a bullshit article from a bullshit source. \"renewableenergyworld.com?\" Gee, what's their agenda? \n",
      "\n",
      "Anyway, rational people would realize that nuclear is but a part of the energy portfolio, a portfolio that ideally should also include hefty amounts of solar and wind amongst other renewable options. I don't think anyone is actually advocating a nuclear-only generating policy.\n",
      "RESULTS: [{'label': 'NEG', 'score': 0.9376453161239624}]\n",
      "============================\n",
      "Just because its the internet and somebody said it, does not mean the authors in this article can just spout out bullshit whenever they want, not comparing costs to other forms of energy or 'alternative' energy which, used to include nuclear. \n",
      "RESULTS: [{'label': 'NEG', 'score': 0.8751094937324524}]\n",
      "============================\n",
      "Awesome! I'm taking Alternative Energy Technology (which didn't even touch nuclear, so I brought its influence in my presentations) and dream of being a part of the nuclear industry. \n",
      "RESULTS: [{'label': 'POS', 'score': 0.9801558256149292}]\n",
      "============================\n",
      "/r/nuclear**ENERGY** is banned, not /r/nuclearpower\n",
      "RESULTS: [{'label': 'NEU', 'score': 0.5245786905288696}]\n",
      "============================\n",
      "With any luck other cities will see this and follow suit!\n",
      "\n",
      "I think nuclear power is beginning to slowly crawl out of its crater and present itself as a viable source of clean energy. Articles like this show that it can live up to its promises.\n",
      "RESULTS: [{'label': 'POS', 'score': 0.8186356425285339}]\n",
      "============================\n",
      " Why should nuclear energy be held to a higher standard than any other energy sector? \n",
      "\n",
      "Because when other energy generating technologies fail, you don't have to evacuate everyone in a 100 mile radius.\n",
      "RESULTS: [{'label': 'NEG', 'score': 0.8298510909080505}]\n",
      "============================\n",
      "This article becomes more excellent every time I read it. A brilliant argument for nuclear energy.\n",
      "RESULTS: [{'label': 'POS', 'score': 0.9919846653938293}]\n",
      "============================\n",
      "Hm I'm confused. Gen IV to my knowlege is just a type of nuclear reactor. I'd like to know more about the specific project you are talking about. The only thing that I believe might be a gen4 is by flibe? http://en.wikipedia.org/wiki/Flibe_Energy I belive the govt is paying them for some small reactors I just haven't gotten to them yet \n",
      "RESULTS: [{'label': 'NEU', 'score': 0.5790595412254333}]\n",
      "============================\n"
     ]
    }
   ],
   "source": [
    "for text in input_list:\n",
    "    print(text)\n",
    "    print(f\"RESULTS: {pipe(str(text))}\")\n",
    "    print(\"============================\")"
   ]
  }
 ],
 "metadata": {
  "kernelspec": {
   "display_name": "Python 3 (ipykernel)",
   "language": "python",
   "name": "python3"
  },
  "language_info": {
   "codemirror_mode": {
    "name": "ipython",
    "version": 3
   },
   "file_extension": ".py",
   "mimetype": "text/x-python",
   "name": "python",
   "nbconvert_exporter": "python",
   "pygments_lexer": "ipython3",
   "version": "3.11.5"
  }
 },
 "nbformat": 4,
 "nbformat_minor": 5
}
